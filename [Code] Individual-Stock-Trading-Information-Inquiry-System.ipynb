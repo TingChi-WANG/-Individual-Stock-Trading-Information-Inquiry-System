{
 "cells": [
  {
   "cell_type": "code",
   "execution_count": null,
   "metadata": {},
   "outputs": [],
   "source": [
    "from selenium import webdriver\n",
    "from selenium.webdriver.common.keys import Keys\n",
    "import requests,json,time\n",
    "import pandas as pd\n",
    "import numpy as np\n",
    "import matplotlib.pyplot as plt\n",
    "\n",
    "stock=input('請輸入個股代碼')  \n",
    "struct_time = time.localtime(time.time())\n",
    "ntime=time.strftime(\"%Y%m%d\",struct_time)\n",
    "\n",
    "driver = webdriver.Firefox()\n",
    "driver.get('https://www.twse.com.tw/zh/page/trading/exchange/STOCK_DAY.html')\n",
    "search_box = driver.find_element('name','stockNo')\n",
    "search_box.send_keys(stock)\n",
    "search_box.send_keys(Keys.CONTROL, '\\ue007')\n",
    "\n",
    "url=f'https://www.twse.com.tw/exchangeReport/STOCK_DAY?response=json&date={ntime}&stockNo={stock}'\n",
    "data=requests.get(url)\n",
    "datadict=json.loads(data.text)\n",
    "cols=[]\n",
    "for c in range(9):\n",
    "    col0=[]\n",
    "    for r in range(0,len(datadict['data'])):\n",
    "        if c>=3 and c<=6:\n",
    "            col0.append(float(datadict['data'][r][c]))\n",
    "        elif c==7:\n",
    "            datadict['data'][r][c]=datadict['data'][r][c].replace('X','')\n",
    "            datadict['data'][r][c]=str(datadict['data'][r][c]).replace('+','')\n",
    "            col0.append(float(datadict['data'][r][c]))\n",
    "        else:\n",
    "            col0.append(datadict['data'][r][c])\n",
    "    cols.append((col0))\n",
    "dic={}\n",
    "head=datadict['fields']\n",
    "for f in range(0,len(datadict['fields'])):\n",
    "    dic[head[f]]=cols[f]\n",
    "df=pd.DataFrame(dic)\n",
    "\n",
    "plt.rcParams['font.sans-serif'] = ['Taipei Sans TC Beta']\n",
    "plt.plot(df['日期'],df['收盤價'])\n",
    "plt.xlabel('日期')\n",
    "plt.ylabel('收盤價')\n",
    "plt.title('收盤價趨勢圖')\n",
    "\n",
    "title=datadict['title']\n",
    "def color_neg_pos(val):\n",
    "    if val > 0:\n",
    "        return 'color:red'\n",
    "    elif val<0:\n",
    "        return 'color:green'\n",
    "\n",
    "(df.style.set_caption(title)\n",
    "        .background_gradient('Blues', subset='收盤價')\n",
    "        .format('{:.2f}', subset='漲跌價差')\n",
    "        .applymap(color_neg_pos,subset='漲跌價差')\n",
    "        )\n"
   ]
  },
  {
   "cell_type": "code",
   "execution_count": null,
   "metadata": {},
   "outputs": [],
   "source": []
  }
 ],
 "metadata": {
  "kernelspec": {
   "display_name": "Python 3.9.12 ('base')",
   "language": "python",
   "name": "python3"
  },
  "language_info": {
   "codemirror_mode": {
    "name": "ipython",
    "version": 3
   },
   "file_extension": ".py",
   "mimetype": "text/x-python",
   "name": "python",
   "nbconvert_exporter": "python",
   "pygments_lexer": "ipython3",
   "version": "3.9.12"
  },
  "orig_nbformat": 4,
  "vscode": {
   "interpreter": {
    "hash": "ff575a470eb1f7254d4c4de5d63c5fcd09b3169ad42d4d6981372b6d16e4b4d9"
   }
  }
 },
 "nbformat": 4,
 "nbformat_minor": 2
}
